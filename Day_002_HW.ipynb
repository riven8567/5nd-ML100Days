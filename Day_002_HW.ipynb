{
 "cells": [
  {
   "cell_type": "markdown",
   "metadata": {},
   "source": [
    "## [作業目標]\n",
    "了解機器學習適合應用的領域與範疇。"
   ]
  },
  {
   "cell_type": "markdown",
   "metadata": {},
   "source": [
    "## [作業重點]\n",
    "透過瞭解機器學習的運作方式，找出非常適用機器學習應用的領域及其原因"
   ]
  },
  {
   "cell_type": "markdown",
   "metadata": {},
   "source": [
    "## 作業\n",
    "請找出一個你認為機器學習可以發光發熱的領域並闡述原因? "
   ]
  },
  {
   "cell_type": "markdown",
   "metadata": {},
   "source": [
    "### 可運用領域：壽險業潛在保戶尋找\n",
    "\n",
    "在壽險業，擁有各種維度的顧客資訊，除了有基本的性別、年齡、職業代碼等，還有其他的特徵值例如危險等級、歷史保單、購買記錄、金額等等。若是大型金控，甚至還能取得顧客的消費資料，暸解顧客的消費習性，以推測出背後的生活型態、偏好。而在定義客群的過程中，人為思考很難找出彼此間的購買關係，但透過機器學習，給定預測年度以及訓練資料，可訓練機器找出最能預測是否購買保單的關鍵變數，以求精準的預測既有保戶是否會購買。後續成果可應用在精準行銷、減少過度打擾，或是用於內部業務輔助。"
   ]
  },
  {
   "cell_type": "code",
   "execution_count": null,
   "metadata": {},
   "outputs": [],
   "source": []
  }
 ],
 "metadata": {
  "kernelspec": {
   "display_name": "Python 3",
   "language": "python",
   "name": "python3"
  },
  "language_info": {
   "codemirror_mode": {
    "name": "ipython",
    "version": 3
   },
   "file_extension": ".py",
   "mimetype": "text/x-python",
   "name": "python",
   "nbconvert_exporter": "python",
   "pygments_lexer": "ipython3",
   "version": "3.7.4"
  }
 },
 "nbformat": 4,
 "nbformat_minor": 2
}
